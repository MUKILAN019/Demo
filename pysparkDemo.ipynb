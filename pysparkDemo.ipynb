{
 "cells": [
  {
   "cell_type": "code",
   "execution_count": 4,
   "metadata": {},
   "outputs": [
    {
     "name": "stdout",
     "output_type": "stream",
     "text": [
      "Requirement already satisfied: pyspark in c:\\users\\pavil\\appdata\\local\\programs\\python\\python313\\lib\\site-packages (3.5.5)\n",
      "Requirement already satisfied: py4j==0.10.9.7 in c:\\users\\pavil\\appdata\\local\\programs\\python\\python313\\lib\\site-packages (from pyspark) (0.10.9.7)\n",
      "Note: you may need to restart the kernel to use updated packages.\n"
     ]
    }
   ],
   "source": [
    "pip install pyspark"
   ]
  },
  {
   "cell_type": "markdown",
   "metadata": {},
   "source": [
    "importhing PySpark Sql"
   ]
  },
  {
   "cell_type": "code",
   "execution_count": 5,
   "metadata": {},
   "outputs": [],
   "source": [
    "from pyspark.sql import *"
   ]
  },
  {
   "cell_type": "markdown",
   "metadata": {},
   "source": [
    "Create the student database"
   ]
  },
  {
   "cell_type": "code",
   "execution_count": 6,
   "metadata": {},
   "outputs": [],
   "source": [
    "Student = Row(\"firstname\",\"lastname\",\"email\",\"age\",\"rollNumber\")"
   ]
  },
  {
   "cell_type": "code",
   "execution_count": 7,
   "metadata": {},
   "outputs": [],
   "source": [
    "students = [\n",
    "    Student(\"Emma\", \"Johnson\", \"emma.johnson@example.com\", 20, 1001),\n",
    "    Student(\"Liam\", \"Smith\", \"liam.smith@example.com\", 22, 1002),\n",
    "    Student(\"Olivia\", \"Brown\", \"olivia.brown@example.com\", 19, 1003),\n",
    "    Student(\"Noah\", \"Davis\", \"noah.davis@example.com\", 21, 1004),\n",
    "    Student(\"Ava\", \"Wilson\", \"ava.wilson@example.com\", 23, 1005),\n",
    "    Student(\"Lucas\", \"Martinez\", \"lucas.martinez@example.com\", 20, 1006),\n",
    "    Student(\"Sophia\", \"Anderson\", \"sophia.anderson@example.com\", 24, 1007),\n",
    "    Student(\"Ethan\", \"Taylor\", \"ethan.taylor@example.com\", 19, 1008),\n",
    "    Student(\"Isabella\", \"Thomas\", \"isabella.thomas@example.com\", 22, 1009),\n",
    "    Student(\"James\", \"Garcia\", \"james.garcia@example.com\", 21, 1010),\n",
    "]"
   ]
  },
  {
   "cell_type": "markdown",
   "metadata": {},
   "source": [
    "Create the Departments"
   ]
  },
  {
   "cell_type": "code",
   "execution_count": 8,
   "metadata": {},
   "outputs": [],
   "source": [
    "department1 = Row(id=\"001\", name=\"Computer Science\")\n",
    "department2 = Row(id=\"002\", name=\"Mechanical Engineering\")\n",
    "department3 = Row(id=\"003\", name=\"Data Science\")\n",
    "department4 = Row(id=\"004\", name=\"Civil Engineering\")"
   ]
  },
  {
   "cell_type": "markdown",
   "metadata": {},
   "source": [
    "Create the DepartmentWithStudent instances"
   ]
  },
  {
   "cell_type": "code",
   "execution_count": 9,
   "metadata": {},
   "outputs": [],
   "source": [
    "departmentWithStudent1 = Row(department=department1, students=[students[0], students[1]])\n",
    "departmentWithStudent2 = Row(department=department2, students=[students[2], students[3]])\n",
    "departmentWithStudent3 = Row(department=department3, students=[students[4], students[5]])\n",
    "departmentWithStudent4 = Row(department=department4, students=[students[6], students[7]])\n",
    "departmentWintStudent5 = Row(department=department1, students=[students[8], students[9]])"
   ]
  },
  {
   "cell_type": "code",
   "execution_count": 10,
   "metadata": {},
   "outputs": [
    {
     "name": "stdout",
     "output_type": "stream",
     "text": [
      "1005\n"
     ]
    }
   ],
   "source": [
    "print(departmentWithStudent3.students[0].rollNumber)"
   ]
  },
  {
   "cell_type": "markdown",
   "metadata": {},
   "source": [
    "Creating data frame"
   ]
  },
  {
   "cell_type": "code",
   "execution_count": 11,
   "metadata": {},
   "outputs": [],
   "source": [
    "departmentWithStudents = (departmentWithStudent1, departmentWithStudent2, departmentWithStudent3, departmentWithStudent4, departmentWintStudent5)"
   ]
  },
  {
   "cell_type": "code",
   "execution_count": 12,
   "metadata": {},
   "outputs": [],
   "source": [
    "from pyspark.context import SparkContext \n",
    "from pyspark.sql.session import SparkSession\n",
    "\n",
    "sc = SparkContext.getOrCreate()\n",
    "spark = SparkSession(sc)"
   ]
  },
  {
   "cell_type": "code",
   "execution_count": 13,
   "metadata": {},
   "outputs": [],
   "source": [
    "df = spark.createDataFrame(departmentWithStudents) "
   ]
  },
  {
   "cell_type": "markdown",
   "metadata": {},
   "source": [
    "display dataframe"
   ]
  },
  {
   "cell_type": "code",
   "execution_count": 14,
   "metadata": {},
   "outputs": [
    {
     "data": {
      "text/plain": [
       "DataFrame[department: struct<id:string,name:string>, students: array<struct<firstname:string,lastname:string,email:string,age:bigint,rollNumber:bigint>>]"
      ]
     },
     "metadata": {},
     "output_type": "display_data"
    }
   ],
   "source": [
    "display(df)"
   ]
  },
  {
   "cell_type": "markdown",
   "metadata": {},
   "source": [
    "Data frame from CSV"
   ]
  },
  {
   "cell_type": "code",
   "execution_count": 15,
   "metadata": {},
   "outputs": [],
   "source": [
    "from pyspark.sql import SparkSession"
   ]
  },
  {
   "cell_type": "code",
   "execution_count": 21,
   "metadata": {},
   "outputs": [],
   "source": [
    "spark = SparkSession.builder.appName(\"Create data frame from csv file\").getOrCreate()"
   ]
  },
  {
   "cell_type": "code",
   "execution_count": 23,
   "metadata": {},
   "outputs": [],
   "source": [
    "covid_df = spark.read.csv(path=\"C:/Users/pavil/Documents/demo/content/covid_19_data.csv\", sep=\",\", header=True)"
   ]
  },
  {
   "cell_type": "code",
   "execution_count": 25,
   "metadata": {},
   "outputs": [
    {
     "name": "stdout",
     "output_type": "stream",
     "text": [
      "+----------+-------+---------+------+---------+\n",
      "|      Date|Country|Confirmed|Deaths|Recovered|\n",
      "+----------+-------+---------+------+---------+\n",
      "|2024-03-15|    USA|   100000|  2000|    80000|\n",
      "|2024-03-15|  India|    95000|  1500|    87000|\n",
      "|2024-03-15| Brazil|    85000|  1800|    72000|\n",
      "|2024-03-15| Russia|    67000|  1200|    54000|\n",
      "|2024-03-15|     UK|    74000|  1300|    60000|\n",
      "|2024-03-16|    USA|   102500|  2100|    82000|\n",
      "|2024-03-16|  India|    97000|  1600|    88000|\n",
      "|2024-03-16| Brazil|    87000|  1900|    74000|\n",
      "|2024-03-16| Russia|    69000|  1300|    56000|\n",
      "|2024-03-16|     UK|    76000|  1400|    62000|\n",
      "+----------+-------+---------+------+---------+\n",
      "\n"
     ]
    }
   ],
   "source": [
    "covid_df.show()"
   ]
  },
  {
   "cell_type": "code",
   "execution_count": 26,
   "metadata": {},
   "outputs": [
    {
     "data": {
      "text/plain": [
       "10"
      ]
     },
     "execution_count": 26,
     "metadata": {},
     "output_type": "execute_result"
    }
   ],
   "source": [
    "covid_df.count()"
   ]
  },
  {
   "cell_type": "code",
   "execution_count": 27,
   "metadata": {},
   "outputs": [
    {
     "data": {
      "text/plain": [
       "['Date', 'Country', 'Confirmed', 'Deaths', 'Recovered']"
      ]
     },
     "execution_count": 27,
     "metadata": {},
     "output_type": "execute_result"
    }
   ],
   "source": [
    "covid_df.columns"
   ]
  },
  {
   "cell_type": "code",
   "execution_count": 30,
   "metadata": {},
   "outputs": [
    {
     "data": {
      "text/plain": [
       "5"
      ]
     },
     "execution_count": 30,
     "metadata": {},
     "output_type": "execute_result"
    }
   ],
   "source": [
    "len(covid_df.columns)"
   ]
  },
  {
   "cell_type": "code",
   "execution_count": 31,
   "metadata": {},
   "outputs": [
    {
     "name": "stdout",
     "output_type": "stream",
     "text": [
      "root\n",
      " |-- Date: string (nullable = true)\n",
      " |-- Country: string (nullable = true)\n",
      " |-- Confirmed: string (nullable = true)\n",
      " |-- Deaths: string (nullable = true)\n",
      " |-- Recovered: string (nullable = true)\n",
      "\n"
     ]
    }
   ],
   "source": [
    "covid_df.printSchema()"
   ]
  },
  {
   "cell_type": "code",
   "execution_count": 33,
   "metadata": {},
   "outputs": [
    {
     "name": "stdout",
     "output_type": "stream",
     "text": [
      "+-------+------------------+\n",
      "|summary|         Confirmed|\n",
      "+-------+------------------+\n",
      "|  count|                10|\n",
      "|   mean|           85250.0|\n",
      "| stddev|13168.248850085487|\n",
      "|    min|            100000|\n",
      "|    max|             97000|\n",
      "+-------+------------------+\n",
      "\n"
     ]
    }
   ],
   "source": [
    "covid_df.describe(\"Confirmed\").show()"
   ]
  },
  {
   "cell_type": "code",
   "execution_count": 34,
   "metadata": {},
   "outputs": [
    {
     "name": "stdout",
     "output_type": "stream",
     "text": [
      "+-------+------------------+\n",
      "|summary|            Deaths|\n",
      "+-------+------------------+\n",
      "|  count|                10|\n",
      "|   mean|            1610.0|\n",
      "| stddev|321.28215360057305|\n",
      "|    min|              1200|\n",
      "|    max|              2100|\n",
      "+-------+------------------+\n",
      "\n"
     ]
    }
   ],
   "source": [
    "covid_df.describe(\"Deaths\").show()"
   ]
  },
  {
   "cell_type": "code",
   "execution_count": 40,
   "metadata": {},
   "outputs": [
    {
     "name": "stdout",
     "output_type": "stream",
     "text": [
      "+-------+------+\n",
      "|Country|Deaths|\n",
      "+-------+------+\n",
      "|    USA|  2000|\n",
      "|  India|  1500|\n",
      "| Brazil|  1800|\n",
      "| Russia|  1200|\n",
      "|     UK|  1300|\n",
      "|    USA|  2100|\n",
      "|  India|  1600|\n",
      "| Brazil|  1900|\n",
      "| Russia|  1300|\n",
      "|     UK|  1400|\n",
      "+-------+------+\n",
      "\n"
     ]
    }
   ],
   "source": [
    "covid_df.select(\"Country\", \"Deaths\").show()"
   ]
  },
  {
   "cell_type": "code",
   "execution_count": 41,
   "metadata": {},
   "outputs": [
    {
     "name": "stdout",
     "output_type": "stream",
     "text": [
      "+----------+-------+---------+------+---------+\n",
      "|      Date|Country|Confirmed|Deaths|Recovered|\n",
      "+----------+-------+---------+------+---------+\n",
      "|2024-03-15|    USA|   100000|  2000|    80000|\n",
      "|2024-03-15|  India|    95000|  1500|    87000|\n",
      "|2024-03-15| Brazil|    85000|  1800|    72000|\n",
      "|2024-03-15| Russia|    67000|  1200|    54000|\n",
      "|2024-03-15|     UK|    74000|  1300|    60000|\n",
      "|2024-03-16|    USA|   102500|  2100|    82000|\n",
      "|2024-03-16|  India|    97000|  1600|    88000|\n",
      "|2024-03-16| Brazil|    87000|  1900|    74000|\n",
      "|2024-03-16| Russia|    69000|  1300|    56000|\n",
      "|2024-03-16|     UK|    76000|  1400|    62000|\n",
      "+----------+-------+---------+------+---------+\n",
      "\n"
     ]
    }
   ],
   "source": [
    "covid_df.filter(covid_df[\"Deaths\"] > 1000).show()"
   ]
  },
  {
   "cell_type": "code",
   "execution_count": 42,
   "metadata": {},
   "outputs": [
    {
     "name": "stdout",
     "output_type": "stream",
     "text": [
      "+-------+------+\n",
      "|Country|Deaths|\n",
      "+-------+------+\n",
      "|    USA|  2000|\n",
      "|  India|  1500|\n",
      "| Brazil|  1800|\n",
      "| Russia|  1200|\n",
      "|     UK|  1300|\n",
      "|    USA|  2100|\n",
      "|  India|  1600|\n",
      "| Brazil|  1900|\n",
      "| Russia|  1300|\n",
      "|     UK|  1400|\n",
      "+-------+------+\n",
      "\n"
     ]
    }
   ],
   "source": [
    "covid_df.filter(covid_df[\"Deaths\"] > 1000).select(\"Country\", \"Deaths\").show()"
   ]
  },
  {
   "cell_type": "code",
   "execution_count": 45,
   "metadata": {},
   "outputs": [
    {
     "data": {
      "text/plain": [
       "10"
      ]
     },
     "execution_count": 45,
     "metadata": {},
     "output_type": "execute_result"
    }
   ],
   "source": [
    "covid_df.filter(covid_df.Deaths > 1000).count()"
   ]
  },
  {
   "cell_type": "code",
   "execution_count": 47,
   "metadata": {},
   "outputs": [
    {
     "name": "stdout",
     "output_type": "stream",
     "text": [
      "+----------+-------+---------+------+---------+\n",
      "|      Date|Country|Confirmed|Deaths|Recovered|\n",
      "+----------+-------+---------+------+---------+\n",
      "|2024-03-15|    USA|   100000|  2000|    80000|\n",
      "|2024-03-15|  India|    95000|  1500|    87000|\n",
      "|2024-03-15| Brazil|    85000|  1800|    72000|\n",
      "|2024-03-15| Russia|    67000|  1200|    54000|\n",
      "|2024-03-15|     UK|    74000|  1300|    60000|\n",
      "|2024-03-16|    USA|   102500|  2100|    82000|\n",
      "|2024-03-16|  India|    97000|  1600|    88000|\n",
      "|2024-03-16| Brazil|    87000|  1900|    74000|\n",
      "|2024-03-16| Russia|    69000|  1300|    56000|\n",
      "|2024-03-16|     UK|    76000|  1400|    62000|\n",
      "+----------+-------+---------+------+---------+\n",
      "\n"
     ]
    }
   ],
   "source": [
    "covid_df.filter((covid_df.Deaths > 1000) & (covid_df.Confirmed > 10000)).show()"
   ]
  },
  {
   "cell_type": "code",
   "execution_count": 52,
   "metadata": {},
   "outputs": [
    {
     "name": "stdout",
     "output_type": "stream",
     "text": [
      "+----------+-------+---------+------+---------+\n",
      "|      Date|Country|Confirmed|Deaths|Recovered|\n",
      "+----------+-------+---------+------+---------+\n",
      "|2024-03-16|  India|    97000|  1600|    88000|\n",
      "|2024-03-15|  India|    95000|  1500|    87000|\n",
      "|2024-03-16| Brazil|    87000|  1900|    74000|\n",
      "|2024-03-15| Brazil|    85000|  1800|    72000|\n",
      "|2024-03-16|     UK|    76000|  1400|    62000|\n",
      "|2024-03-15|     UK|    74000|  1300|    60000|\n",
      "|2024-03-16| Russia|    69000|  1300|    56000|\n",
      "|2024-03-15| Russia|    67000|  1200|    54000|\n",
      "|2024-03-16|    USA|   102500|  2100|    82000|\n",
      "|2024-03-15|    USA|   100000|  2000|    80000|\n",
      "+----------+-------+---------+------+---------+\n",
      "\n"
     ]
    }
   ],
   "source": [
    "covid_df.orderBy(covid_df.Confirmed, ascending=False).show()"
   ]
  },
  {
   "cell_type": "code",
   "execution_count": 55,
   "metadata": {},
   "outputs": [
    {
     "name": "stderr",
     "output_type": "stream",
     "text": [
      "c:\\Users\\pavil\\AppData\\Local\\Programs\\Python\\Python313\\Lib\\site-packages\\pyspark\\sql\\dataframe.py:329: FutureWarning: Deprecated in 2.0, use createOrReplaceTempView instead.\n",
      "  warnings.warn(\"Deprecated in 2.0, use createOrReplaceTempView instead.\", FutureWarning)\n"
     ]
    }
   ],
   "source": [
    "covid_df.registerTempTable(\"covid\")"
   ]
  },
  {
   "cell_type": "code",
   "execution_count": 56,
   "metadata": {},
   "outputs": [
    {
     "name": "stdout",
     "output_type": "stream",
     "text": [
      "+----------+-------+---------+------+---------+\n",
      "|      Date|Country|Confirmed|Deaths|Recovered|\n",
      "+----------+-------+---------+------+---------+\n",
      "|2024-03-15|    USA|   100000|  2000|    80000|\n",
      "|2024-03-15|  India|    95000|  1500|    87000|\n",
      "|2024-03-15| Brazil|    85000|  1800|    72000|\n",
      "|2024-03-15| Russia|    67000|  1200|    54000|\n",
      "|2024-03-15|     UK|    74000|  1300|    60000|\n",
      "|2024-03-16|    USA|   102500|  2100|    82000|\n",
      "|2024-03-16|  India|    97000|  1600|    88000|\n",
      "|2024-03-16| Brazil|    87000|  1900|    74000|\n",
      "|2024-03-16| Russia|    69000|  1300|    56000|\n",
      "|2024-03-16|     UK|    76000|  1400|    62000|\n",
      "+----------+-------+---------+------+---------+\n",
      "\n"
     ]
    }
   ],
   "source": [
    "spark.sql(\"SELECT * FROM covid\").show()"
   ]
  },
  {
   "cell_type": "code",
   "execution_count": 57,
   "metadata": {},
   "outputs": [
    {
     "name": "stdout",
     "output_type": "stream",
     "text": [
      "+-------+------+\n",
      "|Country|Deaths|\n",
      "+-------+------+\n",
      "|    USA|  2000|\n",
      "|  India|  1500|\n",
      "| Brazil|  1800|\n",
      "| Russia|  1200|\n",
      "|     UK|  1300|\n",
      "|    USA|  2100|\n",
      "|  India|  1600|\n",
      "| Brazil|  1900|\n",
      "| Russia|  1300|\n",
      "|     UK|  1400|\n",
      "+-------+------+\n",
      "\n"
     ]
    }
   ],
   "source": [
    "spark.sql(\"select Country, Deaths from covid where Deaths > 1000\").show()"
   ]
  }
 ],
 "metadata": {
  "kernelspec": {
   "display_name": "Python 3",
   "language": "python",
   "name": "python3"
  },
  "language_info": {
   "codemirror_mode": {
    "name": "ipython",
    "version": 3
   },
   "file_extension": ".py",
   "mimetype": "text/x-python",
   "name": "python",
   "nbconvert_exporter": "python",
   "pygments_lexer": "ipython3",
   "version": "3.13.2"
  }
 },
 "nbformat": 4,
 "nbformat_minor": 2
}
